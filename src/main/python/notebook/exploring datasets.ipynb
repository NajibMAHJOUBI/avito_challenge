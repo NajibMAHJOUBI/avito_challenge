{
 "cells": [
  {
   "cell_type": "markdown",
   "metadata": {},
   "source": [
    "## Train"
   ]
  },
  {
   "cell_type": "code",
   "execution_count": 7,
   "metadata": {},
   "outputs": [
    {
     "name": "stdout",
     "output_type": "stream",
     "text": [
      "4335261\n",
      "root\n",
      " |-- 楴敭彩搬畳敲彩搬牥杩潮Ᵽ楴礬灡牥湴彣慴敧潲祟湡浥Ᵽ慴敧潲祟湡浥Ɒ慲慭弱Ɒ慲慭弲Ɒ慲慭弳ⱴ楴汥Ɽ敳捲楰瑩潮Ɒ物捥Ⱪ瑥浟獥煟湵浢敲ⱡ捴楶慴楯湟摡瑥Ⱶ獥牟瑹灥Ⱪ浡来Ⱪ浡来彴潰弱Ɽ敡江灲潢慢楬楴�: string (nullable = true)\n",
      "\n"
     ]
    }
   ],
   "source": [
    "train = spark.read.csv(\"../../../../data/train/\", header=True, sep=\",\", encoding=\"utf-16\")\n",
    "\n",
    "print(train.count())\n",
    "\n",
    "train.printSchema()"
   ]
  },
  {
   "cell_type": "markdown",
   "metadata": {},
   "source": [
    "## Test "
   ]
  },
  {
   "cell_type": "code",
   "execution_count": 5,
   "metadata": {},
   "outputs": [
    {
     "name": "stdout",
     "output_type": "stream",
     "text": [
      "1575381\n",
      "root\n",
      " |-- item_id: string (nullable = true)\n",
      " |-- user_id: string (nullable = true)\n",
      " |-- region: string (nullable = true)\n",
      " |-- city: string (nullable = true)\n",
      " |-- parent_category_name: string (nullable = true)\n",
      " |-- category_name: string (nullable = true)\n",
      " |-- param_1: string (nullable = true)\n",
      " |-- param_2: string (nullable = true)\n",
      " |-- param_3: string (nullable = true)\n",
      " |-- title: string (nullable = true)\n",
      " |-- description: string (nullable = true)\n",
      " |-- price: string (nullable = true)\n",
      " |-- item_seq_number: string (nullable = true)\n",
      " |-- activation_date: string (nullable = true)\n",
      " |-- user_type: string (nullable = true)\n",
      " |-- image: string (nullable = true)\n",
      " |-- image_top_1: string (nullable = true)\n",
      "\n"
     ]
    }
   ],
   "source": [
    "test = spark.read.csv(\"../../../../data/test\", header=True, sep=\",\")\n",
    "\n",
    "print(test.count())\n",
    "\n",
    "test.printSchema()"
   ]
  },
  {
   "cell_type": "code",
   "execution_count": 6,
   "metadata": {},
   "outputs": [
    {
     "data": {
      "text/plain": [
       "[u'\\u041e\\u0431\\u043c\\u0435\\u043d \\u043d\\u0435 \\u0438\\u043d\\u0442\\u0435\\u0440\\u0435\\u0441\\u0443\\u0435\\u0442./',\n",
       " u'\\u2014 \\u041e\\u0433\\u0440\\u043e\\u043c\\u043d\\u044b\\u0439 \\u0432\\u044b\\u0431\\u043e\\u0440 \\u0442\\u043e\\u0432\\u0430\\u0440\\u0430/',\n",
       " u'\\u041e\\u043f\\u0442\\u043e\\u0432\\u044b\\u043c \\u043f\\u043e\\u043a\\u0443\\u043f\\u0430\\u0442\\u0435\\u043b\\u044f\\u043c \\u0441\\u043a\\u0438\\u0434\\u043a\\u0438!!!/',\n",
       " u'4afa7e6f1e62',\n",
       " u'__________________________________________________________________/',\n",
       " u'\\u0423\\u0440\\u043e\\u0432\\u0435\\u043d\\u044c \\u043c\\u044f\\u0433\\u043a\\u043e\\u0439 \\u0432\\u0438\\u043b\\u043a\\u0438: \\u043f\\u0440\\u043e\\u0433\\u0443\\u043b\\u043e\\u0447\\u043d\\u044b\\u0439 /',\n",
       " u'4e5f52abc7ea',\n",
       " u'\\u0412 \\u043d\\u0430\\u043b\\u0438\\u0447\\u0438\\u0438 \\u0431\\u043e\\u043b\\u044c\\u0448\\u043e\\u0439 \\u0430\\u0441\\u0441\\u043e\\u0440\\u0442\\u0438\\u043c\\u0435\\u043d\\u0442 \\u0437\\u0430\\u0440\\u044f\\u0434\\u043d\\u044b\\u0445 \\u0443\\u0441\\u0442\\u0440\\u043e\\u0439\\u0441\\u0442\\u0432 \\u0438 \\u0434\\u0440\\u0443\\u0433\\u0438\\u0445 \\u0430\\u043a\\u0441\\u043a\\u0441\\u0441\\u0443\\u0430\\u0440\\u043e\\u0432 \\u0434\\u043b\\u044f \\u0441\\u043c\\u0430\\u0440\\u0442\\u0444\\u043e\\u043d\\u043e\\u0432',\n",
       " u'\\u0438\\u0437\\u0433\\u043e\\u0442\\u043e\\u0432\\u043b\\u0435\\u043d\\u0438\\u0435 \\u0440\\u0435\\u0430\\u043b\\u0438\\u0441\\u0442\\u0438\\u0447\\u043d\\u044b\\u0445 \\u043c\\u0430\\u043a\\u0435\\u0442\\u043e\\u0432/',\n",
       " u'\\u0412\\u0441\\u0442\\u0440\\u043e\\u0435\\u043d\\u043d\\u0430\\u044f \\u0444\\u0443\\u043d\\u043a\\u0446\\u0438\\u044f \\u0438\\u043e\\u043d\\u0438\\u0437\\u0430\\u0446\\u0438\\u0438/',\n",
       " u'\\u041e\\u0447\\u0435\\u043d\\u044c \\u043a\\u0440\\u0430\\u0441\\u0438\\u0432\\u0430\\u044f /',\n",
       " u'd4ed03cc7b06',\n",
       " u'd9e3c87f24a5',\n",
       " u'\\u041f\\u0438\\u0441\\u0430\\u0442\\u044c \\u0432 whatsapp \\u0438\\u043b\\u0438 \\u0437\\u0432\\u043e\\u043d\\u0438\\u0442\\u044c \\u043f\\u043e \\u0442\\u0435\\u043b\\u0435\\u0444\\u043e\\u043d\\u0443 \\u0434\\u043e 20:30.\"',\n",
       " u'48b88ffc60d1',\n",
       " u'\\u0415\\u043c\\u043a\\u043e\\u0441\\u0442\\u044c HDD (\\u0413\\u0431): 500/',\n",
       " u'\\u0413\\u041e\\u0421\\u0422 \\u0420 12.4.187-97)/',\n",
       " u'2fdf6db8d3e8',\n",
       " u'\\u043a\\u043e\\u043b\\u0433\\u043e\\u0442\\u043a\\u0438 \\u0432 \\u043f\\u043e\\u0434\\u0430\\u0440\\u043e\\u043a/',\n",
       " u'\\u0432\\u043e\\u0437\\u043c\\u043e\\u0436\\u043d\\u043e\\u0441\\u0442\\u044c \\u043e\\u043f\\u043b\\u0430\\u0442\\u044b \\u043f\\u043e \\u043c\\u0435\\u0441\\u0442\\u0443 \\u043e\\u0442\\u0433\\u0440\\u0443\\u0437\\u043a\\u0438./']"
      ]
     },
     "execution_count": 6,
     "metadata": {},
     "output_type": "execute_result"
    }
   ],
   "source": [
    "train.select(\"item_id\").rdd.map(lambda p: p[\"item_id\"]).take(20)"
   ]
  },
  {
   "cell_type": "code",
   "execution_count": null,
   "metadata": {},
   "outputs": [],
   "source": []
  }
 ],
 "metadata": {
  "kernelspec": {
   "display_name": "Python 2",
   "language": "python",
   "name": "python2"
  }
 },
 "nbformat": 4,
 "nbformat_minor": 2
}
